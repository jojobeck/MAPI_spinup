{
 "cells": [
  {
   "cell_type": "code",
   "execution_count": 1,
   "metadata": {},
   "outputs": [],
   "source": [
    "import numpy as np\n",
    "import pandas as pd\n",
    "import dimarray as da\n",
    "import shutil\n",
    "path_greenland = '/home/beckmann/mnt/cluhome/exp_pism/my_first_runs/input_data/'\n",
    "import os\n",
    "sia_e =3.0\n",
    "# sia_e =1.25"
   ]
  },
  {
   "cell_type": "code",
   "execution_count": 2,
   "metadata": {},
   "outputs": [],
   "source": [
    "res = np.array([18000, 9000, 4500, 4500])\n",
    "times = np.array([-125000, -25000, -5000, -1000])\n",
    "test = times +1\n",
    "y_end=times[1:]\n",
    "y_end=np.append(y_end,0)\n",
    "surface_sheme =['smb + ftt@margins', 'smb + ftt@margins', 'smb + ftt@margins','smb + ftt@margins' ]\n",
    "ice_eq = ['SIA', 'SIA', 'SIA', 'SIA+SSA' ]\n",
    "# cali = ['']*res.size\n",
    "# cali[-3] = 'calibration'\n",
    "d = {'year': times,'resolution': res,  'surface_sheme': surface_sheme, 'ice_equation': ice_eq}\n",
    "df = pd.DataFrame(data =d)"
   ]
  },
  {
   "cell_type": "code",
   "execution_count": 3,
   "metadata": {},
   "outputs": [
    {
     "data": {
      "text/html": [
       "<div>\n",
       "<style scoped>\n",
       "    .dataframe tbody tr th:only-of-type {\n",
       "        vertical-align: middle;\n",
       "    }\n",
       "\n",
       "    .dataframe tbody tr th {\n",
       "        vertical-align: top;\n",
       "    }\n",
       "\n",
       "    .dataframe thead th {\n",
       "        text-align: right;\n",
       "    }\n",
       "</style>\n",
       "<table border=\"1\" class=\"dataframe\">\n",
       "  <thead>\n",
       "    <tr style=\"text-align: right;\">\n",
       "      <th></th>\n",
       "      <th>year</th>\n",
       "      <th>resolution</th>\n",
       "      <th>surface_sheme</th>\n",
       "      <th>ice_equation</th>\n",
       "    </tr>\n",
       "  </thead>\n",
       "  <tbody>\n",
       "    <tr>\n",
       "      <th>0</th>\n",
       "      <td>-125000</td>\n",
       "      <td>18000</td>\n",
       "      <td>smb + ftt@margins</td>\n",
       "      <td>SIA</td>\n",
       "    </tr>\n",
       "    <tr>\n",
       "      <th>1</th>\n",
       "      <td>-25000</td>\n",
       "      <td>9000</td>\n",
       "      <td>smb + ftt@margins</td>\n",
       "      <td>SIA</td>\n",
       "    </tr>\n",
       "    <tr>\n",
       "      <th>2</th>\n",
       "      <td>-5000</td>\n",
       "      <td>4500</td>\n",
       "      <td>smb + ftt@margins</td>\n",
       "      <td>SIA</td>\n",
       "    </tr>\n",
       "    <tr>\n",
       "      <th>3</th>\n",
       "      <td>-1000</td>\n",
       "      <td>4500</td>\n",
       "      <td>smb + ftt@margins</td>\n",
       "      <td>SIA+SSA</td>\n",
       "    </tr>\n",
       "  </tbody>\n",
       "</table>\n",
       "</div>"
      ],
      "text/plain": [
       "     year  resolution      surface_sheme ice_equation\n",
       "0 -125000       18000  smb + ftt@margins          SIA\n",
       "1  -25000        9000  smb + ftt@margins          SIA\n",
       "2   -5000        4500  smb + ftt@margins          SIA\n",
       "3   -1000        4500  smb + ftt@margins      SIA+SSA"
      ]
     },
     "execution_count": 3,
     "metadata": {},
     "output_type": "execute_result"
    }
   ],
   "source": [
    "df"
   ]
  },
  {
   "cell_type": "code",
   "execution_count": 4,
   "metadata": {},
   "outputs": [
    {
     "name": "stderr",
     "output_type": "stream",
     "text": [
      "/home/beckmann/virtualenvironment/vpy3/local/lib/python3.6/site-packages/dimarray/io/nc.py:624: RuntimeWarning: 'nv4' dimension not found, define integer range\n",
      "  warnings.warn(msg, RuntimeWarning)\n"
     ]
    },
    {
     "data": {
      "text/html": [
       "<div>\n",
       "<style scoped>\n",
       "    .dataframe tbody tr th:only-of-type {\n",
       "        vertical-align: middle;\n",
       "    }\n",
       "\n",
       "    .dataframe tbody tr th {\n",
       "        vertical-align: top;\n",
       "    }\n",
       "\n",
       "    .dataframe thead th {\n",
       "        text-align: right;\n",
       "    }\n",
       "</style>\n",
       "<table border=\"1\" class=\"dataframe\">\n",
       "  <thead>\n",
       "    <tr style=\"text-align: right;\">\n",
       "      <th></th>\n",
       "      <th>year</th>\n",
       "      <th>resolution</th>\n",
       "      <th>-Mx -My</th>\n",
       "      <th>-Mz</th>\n",
       "      <th>skip</th>\n",
       "      <th>time command</th>\n",
       "    </tr>\n",
       "  </thead>\n",
       "  <tbody>\n",
       "    <tr>\n",
       "      <th>0</th>\n",
       "      <td>-125000</td>\n",
       "      <td>18000</td>\n",
       "      <td>-Mx 88 -My 152</td>\n",
       "      <td>-Mz 251 -Mbz 21</td>\n",
       "      <td>100</td>\n",
       "      <td>-ys -125000 -ye -25000</td>\n",
       "    </tr>\n",
       "    <tr>\n",
       "      <th>1</th>\n",
       "      <td>-25000</td>\n",
       "      <td>9000</td>\n",
       "      <td>-Mx 176 -My 304</td>\n",
       "      <td>-Mz 251 -Mbz 21</td>\n",
       "      <td>50</td>\n",
       "      <td>-ys -25000 -ye -5000</td>\n",
       "    </tr>\n",
       "    <tr>\n",
       "      <th>2</th>\n",
       "      <td>-5000</td>\n",
       "      <td>4500</td>\n",
       "      <td>-Mx 352 -My 608</td>\n",
       "      <td>-Mz 251 -Mbz 21</td>\n",
       "      <td>50</td>\n",
       "      <td>-ys -5000 -ye -1000</td>\n",
       "    </tr>\n",
       "    <tr>\n",
       "      <th>3</th>\n",
       "      <td>-1000</td>\n",
       "      <td>4500</td>\n",
       "      <td>-Mx 352 -My 608</td>\n",
       "      <td>-Mz 251 -Mbz 21</td>\n",
       "      <td>100</td>\n",
       "      <td>-ys -1000 -ye 0</td>\n",
       "    </tr>\n",
       "  </tbody>\n",
       "</table>\n",
       "</div>"
      ],
      "text/plain": [
       "     year  resolution          -Mx -My              -Mz  skip  \\\n",
       "0 -125000       18000   -Mx 88 -My 152  -Mz 251 -Mbz 21   100   \n",
       "1  -25000        9000  -Mx 176 -My 304  -Mz 251 -Mbz 21    50   \n",
       "2   -5000        4500  -Mx 352 -My 608  -Mz 251 -Mbz 21    50   \n",
       "3   -1000        4500  -Mx 352 -My 608  -Mz 251 -Mbz 21   100   \n",
       "\n",
       "             time command  \n",
       "0  -ys -125000 -ye -25000  \n",
       "1    -ys -25000 -ye -5000  \n",
       "2     -ys -5000 -ye -1000  \n",
       "3         -ys -1000 -ye 0  "
      ]
     },
     "execution_count": 4,
     "metadata": {},
     "output_type": "execute_result"
    }
   ],
   "source": [
    "def get_mx_my(d_inp,res):\n",
    "    ''' input data, and wanted resolution for bootstrapping'''\n",
    "    dx = d_inp.x[1]-d_inp.x[0]\n",
    "    dy = d_inp.y[1]-d_inp.y[0]\n",
    "    ly =( d_inp.y[-1]-d_inp.y[0]+dx)/2  #full grid length from corner to corner\n",
    "    lx = (d_inp.x[-1]-d_inp.x[0]+dy)/2\n",
    "    mx = (2*lx)/res\n",
    "    my = (2*ly)/res\n",
    "    \n",
    "    return (mx,my)\n",
    "\n",
    "d_inp = da.read_nc(path_greenland+'pism_Greenland_9000m_mcb_jpl_v_ctrl.nc')\n",
    "\n",
    "skip = np.array([100,50,50,100])\n",
    "Mz = ['-Mz 251 -Mbz 21'] *4\n",
    "# Mz[-1] = '-Mz 501 -Mbz 41'\n",
    "M_horizontal = []\n",
    "time_command = []\n",
    "time_command_test = []\n",
    "#calutulate x and y length from resolution\n",
    "for i,r in enumerate(res):\n",
    "    mx,my = get_mx_my(d_inp,r)\n",
    "    #print ('mx,', mx, 'my', my)\n",
    "    M_horizontal.append('-Mx '+str(int(mx))+' -My '+str(int(my)))\n",
    "    time_command.append('-ys '+str(int(times[i]))+ ' -ye '+str(int(y_end[i])))\n",
    "    time_command_test.append('-ys '+str(int(times[i]))+ ' -ye '+str(int(test[i])))\n",
    "\n",
    "d2 = {'year': times,'resolution': res,  '-Mx -My': M_horizontal, '-Mz': Mz, 'skip': skip, 'time command': time_command }\n",
    "df2 = pd.DataFrame(data =d2)\n",
    "df2"
   ]
  },
  {
   "cell_type": "code",
   "execution_count": 5,
   "metadata": {},
   "outputs": [],
   "source": [
    "ftt_file = '/home/beckmann/exp_pism/my_first_runs/input_data/ftt_18000m.nc'"
   ]
  },
  {
   "cell_type": "code",
   "execution_count": 6,
   "metadata": {},
   "outputs": [],
   "source": [
    "dirs=[\n",
    "    'paleo_125ka_25ka_sia_e_'+str(sia_e),\n",
    "    'paleo_25ka_5ka_sia_e_'+str(sia_e),\n",
    "    'paleo_5ka_1ka_sia_e_'+str(sia_e),\n",
    "    'paleo_1ka_0a_sia_e_'+str(sia_e),\n",
    "]\n",
    "\n",
    "pthout = '/home/beckmann/exp_pism/alison/spin_up/PISM_1.2.1/MARv3.11.2_CESM2/'\n",
    "beds =[]\n",
    "ts = []\n",
    "out_state = []\n",
    "out_dirs = []\n",
    "for i,r in enumerate(res):\n",
    "    name = 'pism_Greenland_'+str(int(r))+'m_mcb_jpl_v_no_bath.nc'\n",
    "    beds.append(name)\n",
    "    oname= 'gris_'+str(int(r))+'m.nc'\n",
    "    name = 'ts_gris_'+str(int(r))+'m.nc'\n",
    "    ts.append(pthout+dirs[i] +'/'+ name)\n",
    "    name = 'gris_'+str(int(r))+'m.nc'\n",
    "    out_state.append(pthout+dirs[i] +'/'+ name)\n",
    "    out_dirs.append(pthout +dirs[i] +'/')\n",
    "pism = '/home/beckmann/gitrepos/pism_v1.2.1/pism/bin/pismr'\n",
    "input_dir = '/home/beckmann/icedata/pism_greenland_input/BedMachine/'\n",
    "input_dir_pdd ='/home/beckmann/exp_pism/my_first_runs/spin_up_aschwanden/input_data/'  \n",
    "CLUSTER = True"
   ]
  },
  {
   "cell_type": "code",
   "execution_count": 7,
   "metadata": {},
   "outputs": [
    {
     "data": {
      "text/plain": [
       "['/home/beckmann/exp_pism/alison/spin_up/PISM_1.2.1/MARv3.11.2_CESM2/paleo_125ka_25ka_sia_e_3.0/gris_18000m.nc',\n",
       " '/home/beckmann/exp_pism/alison/spin_up/PISM_1.2.1/MARv3.11.2_CESM2/paleo_25ka_5ka_sia_e_3.0/gris_9000m.nc',\n",
       " '/home/beckmann/exp_pism/alison/spin_up/PISM_1.2.1/MARv3.11.2_CESM2/paleo_5ka_1ka_sia_e_3.0/gris_4500m.nc',\n",
       " '/home/beckmann/exp_pism/alison/spin_up/PISM_1.2.1/MARv3.11.2_CESM2/paleo_1ka_0a_sia_e_3.0/gris_4500m.nc']"
      ]
     },
     "execution_count": 7,
     "metadata": {},
     "output_type": "execute_result"
    }
   ],
   "source": [
    "out_state"
   ]
  },
  {
   "cell_type": "code",
   "execution_count": null,
   "metadata": {},
   "outputs": [],
   "source": []
  },
  {
   "cell_type": "code",
   "execution_count": 8,
   "metadata": {},
   "outputs": [],
   "source": [
    "\n",
    "ptt =pthout.split('exp_pism')[0]+'mnt/cluhome/exp_pism'+pthout.split('exp_pism')[-1]\n",
    "for dirname in dirs:\n",
    "    if not os.path.exists(ptt + dirname ):\n",
    "        os.makedirs(ptt + dirname)"
   ]
  },
  {
   "cell_type": "code",
   "execution_count": 9,
   "metadata": {},
   "outputs": [
    {
     "data": {
      "text/plain": [
       "'/home/beckmann/mnt/cluhome/exp_pism/alison/spin_up/PISM_1.2.1/MARv3.11.2_CESM2/'"
      ]
     },
     "execution_count": 9,
     "metadata": {},
     "output_type": "execute_result"
    }
   ],
   "source": [
    "ptt"
   ]
  },
  {
   "cell_type": "code",
   "execution_count": 10,
   "metadata": {},
   "outputs": [],
   "source": [
    "def write_run_script(scriptname, nodes, ntask,command,Test =False):\n",
    "    CLUSTER = 'True'\n",
    "    if Test:\n",
    "        priority = '#SBATCH --qos=priority'\n",
    "        time=''\n",
    "    if Test is not True:\n",
    "        priority = '#SBATCH --qos=short'\n",
    "        time='#SBATCH --time=23:49:00'\n",
    "    bash_lines=[\n",
    "    '#!/bin/bash'\n",
    "    '',\n",
    "    time,\n",
    "    priority,\n",
    "    '#SBATCH --account=anthroia',\n",
    "    '#SBATCH --nodes='+str(int(nodes)),\n",
    "    '#SBATCH --ntasks-per-node='+str(int(ntask)),\n",
    "    '#SBATCH --job-name='+scriptname.split('.sh')[0],\n",
    "    '#SBATCH --output='+scriptname.split('.sh')[0]+'.out',\n",
    "    '#SBATCH --constraint=haswell',\n",
    "    ]\n",
    "\n",
    "    with open ('./scripts/'+scriptname, 'w') as rsh:\n",
    "        for line in bash_lines:\n",
    "            rsh.write(line + '\\n')\n",
    "        rsh.write('\\n')\n",
    "        rsh.write('\\n')\n",
    "        rsh.write(command)\n",
    "    if CLUSTER:\n",
    "        shutil.copyfile('./scripts/'+scriptname, \\\n",
    "                        ptt+'scripts/'+scriptname, follow_symlinks=True) "
   ]
  },
  {
   "cell_type": "code",
   "execution_count": 11,
   "metadata": {},
   "outputs": [],
   "source": [
    "i =0\n",
    "def write_command1_ftt_margins(nodes, ntask,sia_e,i=0,Test=True):\n",
    "    #efile = out_dirs[i]+'extra_smb_'+str(res[i])+'.nc'\n",
    "    efile = out_dirs[i]+ 'check.nc'\n",
    "    \n",
    "    if Test:\n",
    "        command_t = time_command_test[i]\n",
    "        t_end = str(int(test[i]))\n",
    "        #sv =''\n",
    "        extra = ' -extra_times '+ str(int(times[i]))+':monthly:'+str(int(times[i])+1) +\\\n",
    "        ' -extra_file '+ efile +' -extra_vars climatic_mass_balance,ice_surface_temp'\n",
    "        save = ' '\n",
    "        \n",
    "    else:\n",
    "        command_t = time_command[i]\n",
    "        t_end = str(int(y_end[i]))\n",
    "        extra = ' -extra_times '+ str(int(y_end[i]-1))+':monthly:'+t_end+\\\n",
    "        ' -extra_file '+efile+' -extra_vars climatic_mass_balance,ice_surface_temp'\n",
    "        \n",
    "        delta_snap = int((times[i+1] -times[i])/4)\n",
    "        s_times = str(int(times[i]))+':'+str(delta_snap)+':'+t_end\n",
    "        save = ' -save_file '+out_dirs[i]+'snapshots.nc -save_times ' +s_times\n",
    "        \n",
    "    ftt_file = input_dir+'ftt_'+str(res[i])+'m.nc'\n",
    "    \n",
    "    #s_times = str(int(times[i]))+':500:'+str(int(times[i+1]))\n",
    "    \n",
    "        #sv = ' -save_file '+ts[0].split('ts_')[0]+'snapshots.nc -save_times -25000,-5000,-1000'\n",
    "    #todo!\n",
    "#     MAR_clim18000 = '/home/beckmann/icedata/MAR_SMB/MARv3.9/ISMIP6/proj_monthly/results/'+'clim_mean_pism_SMB_'+str(res[i])+'m.nc'\n",
    "    MAR_clim18000 = '/home/beckmann/icedata/MAR_SMB/Alison/clim_mean/'+'MAR-yr-mean-1961-1990-18km_time_pism.nc'\n",
    "    #MAR_clim18000 = '/home/beckmann/icedata/MAR_SMB/MARv3.9/ISMIP6/proj_monthly/results/'+'clim_mean_pism_ST_only_18000m.nc'\n",
    "   \n",
    "    smbflx_paleo= '-surface given,forcing,delta_T'+\\\n",
    "    ' -surface_delta_T_file '+ input_dir_pdd +'pism_dT.nc -sea_level constant,delta_sl -ocean_delta_sl_file '+ \\\n",
    "    input_dir_pdd+'pism_dSL.nc'+\\\n",
    "    ' -surface_given_file '+MAR_clim18000 +' -surface_given_period 1'+\\\n",
    "    ' -force_to_thickness_file '+ftt_file +' -surface.force_to_thickness.ice_free_alpha_factor 1000'\n",
    "    \n",
    "    make_faster = '-stress_balance.sia.limit_diffusivity yes -stress_balance.sia.max_diffusivity 10.0 '+\\\n",
    "    '-stress_balance.ssa.fd.max_speed 30.0e3'\n",
    "    \n",
    "   \n",
    "    \n",
    "    command = 'srun -n '+str(int(nodes*ntask))+' '+pism+' -i '+ input_dir+beds[i]+' -bootstrap '+ M_horizontal[i] + \\\n",
    "    ' ' + Mz[i] + ' -z_spacing equal -Lz 4000 -Lbz 2000 skip -skip_max ' +str(skip[0]) + ' -grid.registration center '+ command_t +\\\n",
    "    ' ' + smbflx_paleo + ' -options_left -stress_balance.sia.max_diffusivity 500.0'+\\\n",
    "     ' -calving eigen_calving,vonmises_calving,thickness_calving -eigen_calving_K 1e+16 -thickness_calving_threshold 50'+\\\n",
    "    ' -front_retreat_file '+input_dir + 'pism_Greenland_18000m_mcb_jpl_v_no_bath_front_retreat.nc' +\\\n",
    "    ' -sia_e '+str(sia_e) +\\\n",
    "    ' -ts_file '+ \\\n",
    "    ts[i]+ ' -ts_times '+ str(int(times[i]))+':yearly:'+str(int(t_end))+ \\\n",
    "    extra + \\\n",
    "    save +\\\n",
    "    ' -o ' + out_state[i] + ' -o_format netcdf4_parallel -o_size medium'\n",
    "    return(command)"
   ]
  },
  {
   "cell_type": "code",
   "execution_count": 39,
   "metadata": {},
   "outputs": [
    {
     "data": {
      "text/plain": [
       "['/home/beckmann/exp_pism/alison/spin_up/PISM_1.2.1/MARv3.11.2_CESM2/paleo_125ka_25ka_sia_e_1.25/ts_gris_18000m.nc',\n",
       " '/home/beckmann/exp_pism/alison/spin_up/PISM_1.2.1/MARv3.11.2_CESM2/paleo_25ka_5ka_sia_e_1.25/ts_gris_9000m.nc',\n",
       " '/home/beckmann/exp_pism/alison/spin_up/PISM_1.2.1/MARv3.11.2_CESM2/paleo_5ka_1ka_sia_e_1.25/ts_gris_4500m.nc',\n",
       " '/home/beckmann/exp_pism/alison/spin_up/PISM_1.2.1/MARv3.11.2_CESM2/paleo_1ka_0a_sia_e_1.25/ts_gris_4500m.nc']"
      ]
     },
     "execution_count": 39,
     "metadata": {},
     "output_type": "execute_result"
    }
   ],
   "source": [
    "ts"
   ]
  },
  {
   "cell_type": "code",
   "execution_count": 15,
   "metadata": {},
   "outputs": [],
   "source": [
    "Test = False\n",
    "\n",
    "nodes = 8\n",
    "ntask = 16\n",
    "command = write_command1_ftt_margins(nodes,ntask,sia_e,0,Test)\n",
    "write_run_script('run1_paleo125k_sia_e'+str(sia_e)+'.sh', nodes, ntask,command, Test)"
   ]
  },
  {
   "cell_type": "markdown",
   "metadata": {},
   "source": [
    "## run 2"
   ]
  },
  {
   "cell_type": "code",
   "execution_count": 12,
   "metadata": {},
   "outputs": [],
   "source": [
    "regrid_command =' -regrid_vars litho_temp,enthalpy,age,tillwat,bmelt,Href,thk'\n",
    "def write_command2_ftt_margins(nodes, ntask,sia_e,i=1,Test=True):\n",
    "    #efile = out_dirs[i]+'extra_smb_'+str(res[i])+'.nc'\n",
    "    efile = out_dirs[i]+ 'check.nc'\n",
    "    \n",
    "    if Test:\n",
    "        command_t = time_command_test[i]\n",
    "        t_end = str(int(test[i]))\n",
    "        #sv =''\n",
    "        extra = ' -extra_times '+ str(int(times[i]))+':monthly:'+str(int(times[i])+1) +\\\n",
    "        ' -extra_file '+ efile +' -extra_vars climatic_mass_balance,ice_surface_temp'\n",
    "        save = ' '\n",
    "        \n",
    "    else:\n",
    "        command_t = time_command[i]\n",
    "        t_end = str(int(y_end[i]))\n",
    "        extra = ' -extra_times '+ str(int(y_end[i]-1))+':monthly:'+t_end+\\\n",
    "        ' -extra_file '+efile+' -extra_vars climatic_mass_balance,ice_surface_temp'\n",
    "        \n",
    "        delta_snap = int((times[i+1] -times[i])/4)\n",
    "        s_times = str(int(times[i]))+':'+str(delta_snap)+':'+t_end\n",
    "        save = ' -save_file '+out_dirs[i]+'snapshots.nc -save_times ' +s_times\n",
    "        \n",
    "    ftt_file = input_dir+'ftt_'+str(res[i])+'m.nc'\n",
    "    \n",
    "    #s_times = str(int(times[i]))+':500:'+str(int(times[i+1]))\n",
    "    \n",
    "        #sv = ' -save_file '+ts[0].split('ts_')[0]+'snapshots.nc -save_times -25000,-5000,-1000'\n",
    "    #todo!\n",
    "    MAR_clim18000 = '/home/beckmann/icedata/MAR_SMB/Alison/clim_mean/'+'MAR-yr-mean-1961-1990-9km_time_pism.nc'\n",
    "    \n",
    "   \n",
    "    smbflx_paleo= '-surface given,forcing,delta_T'+\\\n",
    "    ' -surface_delta_T_file '+ input_dir_pdd +'pism_dT.nc -sea_level constant,delta_sl -ocean_delta_sl_file '+ \\\n",
    "    input_dir_pdd+'pism_dSL.nc'+\\\n",
    "    ' -surface_given_file '+MAR_clim18000 +'  -surface_given_period 1'+\\\n",
    "    ' -force_to_thickness_file '+ftt_file +' -surface.force_to_thickness.ice_free_alpha_factor 1000'\n",
    "    \n",
    "    make_faster = '-stress_balance.sia.limit_diffusivity yes -stress_balance.sia.max_diffusivity 10.0 '+\\\n",
    "    '-stress_balance.ssa.fd.max_speed 30.0e3'\n",
    "    \n",
    "   \n",
    "    \n",
    "    command = 'srun -n '+str(int(nodes*ntask))+' '+pism+' -bootstrap  -i '+ input_dir+beds[i]+' -regrid_file '+ out_state[i-1] \\\n",
    "    +' '+ regrid_command+' ' + M_horizontal[i] + \\\n",
    "    ' ' + Mz[i] + ' -z_spacing equal -Lz 4000 -Lbz 2000 skip -skip_max ' +str(skip[0]) + ' -grid.registration center '+ command_t +\\\n",
    "    ' ' + smbflx_paleo + ' -options_left -stress_balance.sia.max_diffusivity 500.0'+\\\n",
    "     ' -calving eigen_calving,vonmises_calving,thickness_calving -eigen_calving_K 1e+16 -thickness_calving_threshold 50'+\\\n",
    "    ' -front_retreat_file '+input_dir + 'pism_Greenland_18000m_mcb_jpl_v_no_bath_front_retreat.nc' +\\\n",
    "    ' -sia_e '+str(sia_e) +\\\n",
    "    ' -ts_file '+ \\\n",
    "    ts[i]+ ' -ts_times '+ str(int(times[i]))+':yearly:'+str(int(t_end))+ \\\n",
    "    extra + \\\n",
    "    save +\\\n",
    "    ' -o ' + out_state[i] + ' -o_format netcdf4_parallel -o_size medium'\n",
    "    return(command)"
   ]
  },
  {
   "cell_type": "code",
   "execution_count": 15,
   "metadata": {},
   "outputs": [],
   "source": [
    "Test = False\n",
    "i=1\n",
    "\n",
    "nodes = 16\n",
    "ntask = 16\n",
    "command = write_command2_ftt_margins(nodes,ntask,sia_e,i,Test)\n",
    "write_run_script('run2_paleo_25ka_5ka_sia_e'+str(sia_e)+'.sh', nodes, ntask,command, Test)"
   ]
  },
  {
   "cell_type": "markdown",
   "metadata": {},
   "source": []
  }
 ],
 "metadata": {
  "kernelspec": {
   "display_name": "Python 3",
   "language": "python",
   "name": "python3"
  },
  "language_info": {
   "codemirror_mode": {
    "name": "ipython",
    "version": 3
   },
   "file_extension": ".py",
   "mimetype": "text/x-python",
   "name": "python",
   "nbconvert_exporter": "python",
   "pygments_lexer": "ipython3",
   "version": "3.6.7"
  }
 },
 "nbformat": 4,
 "nbformat_minor": 2
}
